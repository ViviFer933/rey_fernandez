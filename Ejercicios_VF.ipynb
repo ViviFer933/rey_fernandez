{
 "cells": [
  {
   "cell_type": "markdown",
   "metadata": {},
   "source": [
    "### **Ejercicio 1: Limpiar y transformar columnas de texto**\n",
    "Dado el siguiente DataFrame de productos:"
   ]
  },
  {
   "cell_type": "code",
   "execution_count": 88,
   "metadata": {},
   "outputs": [
    {
     "data": {
      "text/html": [
       "<div>\n",
       "<style scoped>\n",
       "    .dataframe tbody tr th:only-of-type {\n",
       "        vertical-align: middle;\n",
       "    }\n",
       "\n",
       "    .dataframe tbody tr th {\n",
       "        vertical-align: top;\n",
       "    }\n",
       "\n",
       "    .dataframe thead th {\n",
       "        text-align: right;\n",
       "    }\n",
       "</style>\n",
       "<table border=\"1\" class=\"dataframe\">\n",
       "  <thead>\n",
       "    <tr style=\"text-align: right;\">\n",
       "      <th></th>\n",
       "      <th>Producto</th>\n",
       "      <th>Precio</th>\n",
       "      <th>Categoría</th>\n",
       "    </tr>\n",
       "  </thead>\n",
       "  <tbody>\n",
       "    <tr>\n",
       "      <th>0</th>\n",
       "      <td>Café</td>\n",
       "      <td>100</td>\n",
       "      <td>bebidas calientes</td>\n",
       "    </tr>\n",
       "    <tr>\n",
       "      <th>1</th>\n",
       "      <td>té</td>\n",
       "      <td>80</td>\n",
       "      <td>bebidas calientes</td>\n",
       "    </tr>\n",
       "    <tr>\n",
       "      <th>2</th>\n",
       "      <td>chocolate</td>\n",
       "      <td>150</td>\n",
       "      <td>snacks dulces</td>\n",
       "    </tr>\n",
       "    <tr>\n",
       "      <th>3</th>\n",
       "      <td>Cacao</td>\n",
       "      <td>120</td>\n",
       "      <td>bebidas calientes</td>\n",
       "    </tr>\n",
       "  </tbody>\n",
       "</table>\n",
       "</div>"
      ],
      "text/plain": [
       "     Producto  Precio            Categoría\n",
       "0        Café     100    bebidas calientes\n",
       "1          té      80    bebidas calientes\n",
       "2   chocolate     150        snacks dulces\n",
       "3      Cacao      120   bebidas calientes "
      ]
     },
     "execution_count": 88,
     "metadata": {},
     "output_type": "execute_result"
    }
   ],
   "source": [
    "import pandas as pd\n",
    "\n",
    "data = {\n",
    "    'Producto': ['Café', 'té', ' chocolate', ' Cacao '],\n",
    "    'Precio': [100, 80, 150, 120],\n",
    "    'Categoría': ['bebidas calientes', 'bebidas calientes', 'snacks dulces', ' bebidas calientes ']\n",
    "}\n",
    "\n",
    "df_productos = pd.DataFrame(data)\n",
    "\n",
    "df_productos\n"
   ]
  },
  {
   "cell_type": "markdown",
   "metadata": {},
   "source": [
    "1. Elimina los espacios en blanco de las columnas **Producto**.\n",
    "2. Convierte todos los valores de la columna **Categoría** a mayúsculas.\n",
    "3. Reemplaza la categoría 'snacks dulces' por 'postres'.\n",
    "4. Crea una nueva columna que indique si el precio es mayor o igual a 120. Usa una función `lambda` para esto."
   ]
  },
  {
   "cell_type": "code",
   "execution_count": 89,
   "metadata": {},
   "outputs": [
    {
     "name": "stdout",
     "output_type": "stream",
     "text": [
      "     Producto  Precio            Categoría     sin_es\n",
      "0        Café     100    bebidas calientes       Café\n",
      "1          té      80    bebidas calientes         té\n",
      "2   chocolate     150        snacks dulces  chocolate\n",
      "3      Cacao      120   bebidas calientes       Cacao\n"
     ]
    }
   ],
   "source": [
    "import pandas as pd\n",
    "\n",
    "# Eliminar los espacios al principio y al final\n",
    "df_productos['sin_es'] = df_productos['Producto'].str.strip()\n",
    "\n",
    "print(df_productos)\n"
   ]
  },
  {
   "cell_type": "code",
   "execution_count": 90,
   "metadata": {},
   "outputs": [
    {
     "name": "stdout",
     "output_type": "stream",
     "text": [
      "     Producto  Precio            Categoría     sin_es\n",
      "0        Café     100    BEBIDAS CALIENTES       Café\n",
      "1          té      80    BEBIDAS CALIENTES         té\n",
      "2   chocolate     150        SNACKS DULCES  chocolate\n",
      "3      Cacao      120   BEBIDAS CALIENTES       Cacao\n"
     ]
    }
   ],
   "source": [
    "df_productos['Categoría']= df_productos['Categoría'].str.upper()\n",
    "\n",
    "print(df_productos)"
   ]
  },
  {
   "cell_type": "code",
   "execution_count": 91,
   "metadata": {},
   "outputs": [
    {
     "name": "stdout",
     "output_type": "stream",
     "text": [
      "     Producto  Precio            Categoría     sin_es\n",
      "0        Café     100    BEBIDAS CALIENTES       Café\n",
      "1          té      80    BEBIDAS CALIENTES         té\n",
      "2   chocolate     150              POSTRES  chocolate\n",
      "3      Cacao      120   BEBIDAS CALIENTES       Cacao\n"
     ]
    }
   ],
   "source": [
    "df_productos= df_productos.replace('SNACKS DULCES','POSTRES')\n",
    "print(df_productos)"
   ]
  },
  {
   "cell_type": "code",
   "execution_count": 92,
   "metadata": {},
   "outputs": [
    {
     "data": {
      "text/html": [
       "<div>\n",
       "<style scoped>\n",
       "    .dataframe tbody tr th:only-of-type {\n",
       "        vertical-align: middle;\n",
       "    }\n",
       "\n",
       "    .dataframe tbody tr th {\n",
       "        vertical-align: top;\n",
       "    }\n",
       "\n",
       "    .dataframe thead th {\n",
       "        text-align: right;\n",
       "    }\n",
       "</style>\n",
       "<table border=\"1\" class=\"dataframe\">\n",
       "  <thead>\n",
       "    <tr style=\"text-align: right;\">\n",
       "      <th></th>\n",
       "      <th>Producto</th>\n",
       "      <th>Precio</th>\n",
       "      <th>Categoría</th>\n",
       "      <th>sin_es</th>\n",
       "      <th>mayor120</th>\n",
       "    </tr>\n",
       "  </thead>\n",
       "  <tbody>\n",
       "    <tr>\n",
       "      <th>0</th>\n",
       "      <td>Café</td>\n",
       "      <td>100</td>\n",
       "      <td>BEBIDAS CALIENTES</td>\n",
       "      <td>Café</td>\n",
       "      <td>False</td>\n",
       "    </tr>\n",
       "    <tr>\n",
       "      <th>1</th>\n",
       "      <td>té</td>\n",
       "      <td>80</td>\n",
       "      <td>BEBIDAS CALIENTES</td>\n",
       "      <td>té</td>\n",
       "      <td>False</td>\n",
       "    </tr>\n",
       "    <tr>\n",
       "      <th>2</th>\n",
       "      <td>chocolate</td>\n",
       "      <td>150</td>\n",
       "      <td>POSTRES</td>\n",
       "      <td>chocolate</td>\n",
       "      <td>True</td>\n",
       "    </tr>\n",
       "    <tr>\n",
       "      <th>3</th>\n",
       "      <td>Cacao</td>\n",
       "      <td>120</td>\n",
       "      <td>BEBIDAS CALIENTES</td>\n",
       "      <td>Cacao</td>\n",
       "      <td>True</td>\n",
       "    </tr>\n",
       "  </tbody>\n",
       "</table>\n",
       "</div>"
      ],
      "text/plain": [
       "     Producto  Precio            Categoría     sin_es  mayor120\n",
       "0        Café     100    BEBIDAS CALIENTES       Café     False\n",
       "1          té      80    BEBIDAS CALIENTES         té     False\n",
       "2   chocolate     150              POSTRES  chocolate      True\n",
       "3      Cacao      120   BEBIDAS CALIENTES       Cacao      True"
      ]
     },
     "execution_count": 92,
     "metadata": {},
     "output_type": "execute_result"
    }
   ],
   "source": [
    "df_productos['mayor120']=df_productos['Precio'].apply(lambda x: x>=120)\n",
    "df_productos"
   ]
  },
  {
   "cell_type": "markdown",
   "metadata": {},
   "source": [
    "### **Ejercicio 2: Limpieza de duplicados y manejo de datos faltantes**\n",
    "Dado el siguiente DataFrame de empleados:"
   ]
  },
  {
   "cell_type": "code",
   "execution_count": 93,
   "metadata": {},
   "outputs": [
    {
     "data": {
      "text/html": [
       "<div>\n",
       "<style scoped>\n",
       "    .dataframe tbody tr th:only-of-type {\n",
       "        vertical-align: middle;\n",
       "    }\n",
       "\n",
       "    .dataframe tbody tr th {\n",
       "        vertical-align: top;\n",
       "    }\n",
       "\n",
       "    .dataframe thead th {\n",
       "        text-align: right;\n",
       "    }\n",
       "</style>\n",
       "<table border=\"1\" class=\"dataframe\">\n",
       "  <thead>\n",
       "    <tr style=\"text-align: right;\">\n",
       "      <th></th>\n",
       "      <th>Nombre</th>\n",
       "      <th>Edad</th>\n",
       "      <th>Departamento</th>\n",
       "    </tr>\n",
       "  </thead>\n",
       "  <tbody>\n",
       "    <tr>\n",
       "      <th>0</th>\n",
       "      <td>Ana</td>\n",
       "      <td>29.0</td>\n",
       "      <td>Ventas</td>\n",
       "    </tr>\n",
       "    <tr>\n",
       "      <th>1</th>\n",
       "      <td>Luis</td>\n",
       "      <td>45.0</td>\n",
       "      <td>Finanzas</td>\n",
       "    </tr>\n",
       "    <tr>\n",
       "      <th>2</th>\n",
       "      <td>Pedro</td>\n",
       "      <td>NaN</td>\n",
       "      <td>RRHH</td>\n",
       "    </tr>\n",
       "    <tr>\n",
       "      <th>3</th>\n",
       "      <td>Luis</td>\n",
       "      <td>40.0</td>\n",
       "      <td>Finanzas</td>\n",
       "    </tr>\n",
       "    <tr>\n",
       "      <th>4</th>\n",
       "      <td>Juan</td>\n",
       "      <td>35.0</td>\n",
       "      <td>Marketing</td>\n",
       "    </tr>\n",
       "    <tr>\n",
       "      <th>5</th>\n",
       "      <td>Ana</td>\n",
       "      <td>29.0</td>\n",
       "      <td>None</td>\n",
       "    </tr>\n",
       "  </tbody>\n",
       "</table>\n",
       "</div>"
      ],
      "text/plain": [
       "  Nombre  Edad Departamento\n",
       "0    Ana  29.0       Ventas\n",
       "1   Luis  45.0     Finanzas\n",
       "2  Pedro   NaN         RRHH\n",
       "3   Luis  40.0     Finanzas\n",
       "4   Juan  35.0    Marketing\n",
       "5    Ana  29.0         None"
      ]
     },
     "execution_count": 93,
     "metadata": {},
     "output_type": "execute_result"
    }
   ],
   "source": [
    "data_empleados = {\n",
    "    'Nombre': ['Ana', 'Luis', 'Pedro', 'Luis', 'Juan', 'Ana'],\n",
    "    'Edad': [29, 45, None, 40, 35, 29],\n",
    "    'Departamento': ['Ventas', 'Finanzas', 'RRHH', 'Finanzas', 'Marketing', None]\n",
    "}\n",
    "\n",
    "df_empleados = pd.DataFrame(data_empleados)\n",
    "\n",
    "df_empleados"
   ]
  },
  {
   "cell_type": "markdown",
   "metadata": {},
   "source": [
    "1. Elimina las filas duplicadas en base a la columna **Nombre**. Quédate con la persona `más joven´.\n",
    "2. Llena los valores faltantes de la columna **Edad** con la media de las edades.\n",
    "3. Llena los valores faltantes de la columna **Departamento** con el valor 'Desconocido'.\n",
    "4. Ordena el DataFrame por edad de forma descendente."
   ]
  },
  {
   "cell_type": "code",
   "execution_count": 94,
   "metadata": {},
   "outputs": [
    {
     "name": "stdout",
     "output_type": "stream",
     "text": [
      "  Nombre  Edad Departamento\n",
      "0    Ana  29.0       Ventas\n",
      "4   Juan  35.0    Marketing\n",
      "3   Luis  40.0     Finanzas\n",
      "2  Pedro   NaN         RRHH\n"
     ]
    }
   ],
   "source": [
    "import pandas as pd\n",
    "df_duplicados=df_empleados.sort_values(by=['Nombre','Edad'])\n",
    "df_sin_duplicados =df_duplicados.drop_duplicates(subset='Nombre', keep='first')\n",
    "\n",
    "print(df_sin_duplicados)"
   ]
  },
  {
   "cell_type": "code",
   "execution_count": 95,
   "metadata": {},
   "outputs": [
    {
     "name": "stdout",
     "output_type": "stream",
     "text": [
      "  Nombre       Edad Departamento\n",
      "0    Ana  29.000000       Ventas\n",
      "4   Juan  35.000000    Marketing\n",
      "3   Luis  40.000000     Finanzas\n",
      "2  Pedro  34.666667         RRHH\n"
     ]
    },
    {
     "name": "stderr",
     "output_type": "stream",
     "text": [
      "/var/folders/wc/t36cttgx18d9v12fs7c9bgm80000gn/T/ipykernel_3903/2353169484.py:1: SettingWithCopyWarning: \n",
      "A value is trying to be set on a copy of a slice from a DataFrame.\n",
      "Try using .loc[row_indexer,col_indexer] = value instead\n",
      "\n",
      "See the caveats in the documentation: https://pandas.pydata.org/pandas-docs/stable/user_guide/indexing.html#returning-a-view-versus-a-copy\n",
      "  df_sin_duplicados['Edad'] = df_sin_duplicados['Edad'].fillna(df_sin_duplicados['Edad'].mean())\n"
     ]
    }
   ],
   "source": [
    "df_sin_duplicados['Edad'] = df_sin_duplicados['Edad'].fillna(df_sin_duplicados['Edad'].mean())\n",
    "\n",
    "print(df_sin_duplicados)"
   ]
  },
  {
   "cell_type": "code",
   "execution_count": 96,
   "metadata": {},
   "outputs": [
    {
     "name": "stdout",
     "output_type": "stream",
     "text": [
      "  Nombre  Edad Departamento\n",
      "0    Ana  29.0       Ventas\n",
      "1   Luis  45.0     Finanzas\n",
      "2  Pedro   NaN         RRHH\n",
      "3   Luis  40.0     Finanzas\n",
      "4   Juan  35.0    Marketing\n",
      "5    Ana  29.0  Desconocido\n"
     ]
    }
   ],
   "source": [
    "df_empleados['Departamento'] = df_empleados['Departamento'].fillna('Desconocido')\n",
    "\n",
    "print(df_empleados)"
   ]
  },
  {
   "cell_type": "code",
   "execution_count": 97,
   "metadata": {},
   "outputs": [
    {
     "name": "stdout",
     "output_type": "stream",
     "text": [
      "  Nombre       Edad Departamento\n",
      "3   Luis  40.000000     Finanzas\n",
      "4   Juan  35.000000    Marketing\n",
      "2  Pedro  34.666667         RRHH\n",
      "0    Ana  29.000000       Ventas\n"
     ]
    }
   ],
   "source": [
    "df_sin_duplicados=df_sin_duplicados.sort_values(by=['Edad'],ascending=False)\n",
    "print(df_sin_duplicados)"
   ]
  },
  {
   "cell_type": "markdown",
   "metadata": {},
   "source": [
    "### **Ejercicio 3: Aplicar funciones a las columnas**\n",
    "Dado un DataFrame de ventas de productos:"
   ]
  },
  {
   "cell_type": "code",
   "execution_count": 98,
   "metadata": {},
   "outputs": [
    {
     "data": {
      "text/html": [
       "<div>\n",
       "<style scoped>\n",
       "    .dataframe tbody tr th:only-of-type {\n",
       "        vertical-align: middle;\n",
       "    }\n",
       "\n",
       "    .dataframe tbody tr th {\n",
       "        vertical-align: top;\n",
       "    }\n",
       "\n",
       "    .dataframe thead th {\n",
       "        text-align: right;\n",
       "    }\n",
       "</style>\n",
       "<table border=\"1\" class=\"dataframe\">\n",
       "  <thead>\n",
       "    <tr style=\"text-align: right;\">\n",
       "      <th></th>\n",
       "      <th>Producto</th>\n",
       "      <th>Precio</th>\n",
       "      <th>Cantidad</th>\n",
       "    </tr>\n",
       "  </thead>\n",
       "  <tbody>\n",
       "    <tr>\n",
       "      <th>0</th>\n",
       "      <td>Café</td>\n",
       "      <td>120</td>\n",
       "      <td>3</td>\n",
       "    </tr>\n",
       "    <tr>\n",
       "      <th>1</th>\n",
       "      <td>Té</td>\n",
       "      <td>80</td>\n",
       "      <td>5</td>\n",
       "    </tr>\n",
       "    <tr>\n",
       "      <th>2</th>\n",
       "      <td>Jugo</td>\n",
       "      <td>90</td>\n",
       "      <td>2</td>\n",
       "    </tr>\n",
       "    <tr>\n",
       "      <th>3</th>\n",
       "      <td>Agua</td>\n",
       "      <td>60</td>\n",
       "      <td>8</td>\n",
       "    </tr>\n",
       "  </tbody>\n",
       "</table>\n",
       "</div>"
      ],
      "text/plain": [
       "  Producto  Precio  Cantidad\n",
       "0     Café     120         3\n",
       "1       Té      80         5\n",
       "2     Jugo      90         2\n",
       "3     Agua      60         8"
      ]
     },
     "execution_count": 98,
     "metadata": {},
     "output_type": "execute_result"
    }
   ],
   "source": [
    "data_ventas = {\n",
    "    'Producto': ['Café', 'Té', 'Jugo', 'Agua'],\n",
    "    'Precio': [120, 80, 90, 60],\n",
    "    'Cantidad': [3, 5, 2, 8]\n",
    "}\n",
    "\n",
    "df_ventas = pd.DataFrame(data_ventas)\n",
    "df_ventas"
   ]
  },
  {
   "cell_type": "markdown",
   "metadata": {},
   "source": [
    "1. Calcula el total de ventas (Precio * Cantidad) y agrégalo como una nueva columna.\n",
    "2. Crea una nueva columna llamada **Descuento** que aplique un descuento del 10% si el precio es mayor a 100, y del 5% si es menor o igual a 100. Usa la función `apply` y una función `lambda`."
   ]
  },
  {
   "cell_type": "code",
   "execution_count": 99,
   "metadata": {},
   "outputs": [
    {
     "data": {
      "text/html": [
       "<div>\n",
       "<style scoped>\n",
       "    .dataframe tbody tr th:only-of-type {\n",
       "        vertical-align: middle;\n",
       "    }\n",
       "\n",
       "    .dataframe tbody tr th {\n",
       "        vertical-align: top;\n",
       "    }\n",
       "\n",
       "    .dataframe thead th {\n",
       "        text-align: right;\n",
       "    }\n",
       "</style>\n",
       "<table border=\"1\" class=\"dataframe\">\n",
       "  <thead>\n",
       "    <tr style=\"text-align: right;\">\n",
       "      <th></th>\n",
       "      <th>Producto</th>\n",
       "      <th>Precio</th>\n",
       "      <th>Cantidad</th>\n",
       "      <th>total_de_ventas</th>\n",
       "    </tr>\n",
       "  </thead>\n",
       "  <tbody>\n",
       "    <tr>\n",
       "      <th>0</th>\n",
       "      <td>Café</td>\n",
       "      <td>120</td>\n",
       "      <td>3</td>\n",
       "      <td>360</td>\n",
       "    </tr>\n",
       "    <tr>\n",
       "      <th>1</th>\n",
       "      <td>Té</td>\n",
       "      <td>80</td>\n",
       "      <td>5</td>\n",
       "      <td>400</td>\n",
       "    </tr>\n",
       "    <tr>\n",
       "      <th>2</th>\n",
       "      <td>Jugo</td>\n",
       "      <td>90</td>\n",
       "      <td>2</td>\n",
       "      <td>180</td>\n",
       "    </tr>\n",
       "    <tr>\n",
       "      <th>3</th>\n",
       "      <td>Agua</td>\n",
       "      <td>60</td>\n",
       "      <td>8</td>\n",
       "      <td>480</td>\n",
       "    </tr>\n",
       "  </tbody>\n",
       "</table>\n",
       "</div>"
      ],
      "text/plain": [
       "  Producto  Precio  Cantidad  total_de_ventas\n",
       "0     Café     120         3              360\n",
       "1       Té      80         5              400\n",
       "2     Jugo      90         2              180\n",
       "3     Agua      60         8              480"
      ]
     },
     "execution_count": 99,
     "metadata": {},
     "output_type": "execute_result"
    }
   ],
   "source": [
    "df_ventas['total_de_ventas']= df_ventas['Precio'] * df_ventas['Cantidad']\n",
    "\n",
    "df_ventas"
   ]
  },
  {
   "cell_type": "code",
   "execution_count": 100,
   "metadata": {},
   "outputs": [
    {
     "data": {
      "text/html": [
       "<div>\n",
       "<style scoped>\n",
       "    .dataframe tbody tr th:only-of-type {\n",
       "        vertical-align: middle;\n",
       "    }\n",
       "\n",
       "    .dataframe tbody tr th {\n",
       "        vertical-align: top;\n",
       "    }\n",
       "\n",
       "    .dataframe thead th {\n",
       "        text-align: right;\n",
       "    }\n",
       "</style>\n",
       "<table border=\"1\" class=\"dataframe\">\n",
       "  <thead>\n",
       "    <tr style=\"text-align: right;\">\n",
       "      <th></th>\n",
       "      <th>Producto</th>\n",
       "      <th>Precio</th>\n",
       "      <th>Cantidad</th>\n",
       "      <th>total_de_ventas</th>\n",
       "      <th>Descuento</th>\n",
       "    </tr>\n",
       "  </thead>\n",
       "  <tbody>\n",
       "    <tr>\n",
       "      <th>0</th>\n",
       "      <td>Café</td>\n",
       "      <td>120</td>\n",
       "      <td>3</td>\n",
       "      <td>360</td>\n",
       "      <td>0.10</td>\n",
       "    </tr>\n",
       "    <tr>\n",
       "      <th>1</th>\n",
       "      <td>Té</td>\n",
       "      <td>80</td>\n",
       "      <td>5</td>\n",
       "      <td>400</td>\n",
       "      <td>0.05</td>\n",
       "    </tr>\n",
       "    <tr>\n",
       "      <th>2</th>\n",
       "      <td>Jugo</td>\n",
       "      <td>90</td>\n",
       "      <td>2</td>\n",
       "      <td>180</td>\n",
       "      <td>0.05</td>\n",
       "    </tr>\n",
       "    <tr>\n",
       "      <th>3</th>\n",
       "      <td>Agua</td>\n",
       "      <td>60</td>\n",
       "      <td>8</td>\n",
       "      <td>480</td>\n",
       "      <td>0.05</td>\n",
       "    </tr>\n",
       "  </tbody>\n",
       "</table>\n",
       "</div>"
      ],
      "text/plain": [
       "  Producto  Precio  Cantidad  total_de_ventas  Descuento\n",
       "0     Café     120         3              360       0.10\n",
       "1       Té      80         5              400       0.05\n",
       "2     Jugo      90         2              180       0.05\n",
       "3     Agua      60         8              480       0.05"
      ]
     },
     "execution_count": 100,
     "metadata": {},
     "output_type": "execute_result"
    }
   ],
   "source": [
    "df_ventas['Descuento'] = df_ventas['Precio'].apply(lambda x: 0.10 if x > 100 else 0.05)\n",
    "\n",
    "df_ventas"
   ]
  },
  {
   "cell_type": "markdown",
   "metadata": {},
   "source": [
    "### **Ejercicio 4: Uso de funciones de cadena**\n",
    "Dado el siguiente DataFrame de direcciones de clientes:"
   ]
  },
  {
   "cell_type": "code",
   "execution_count": 101,
   "metadata": {},
   "outputs": [
    {
     "data": {
      "text/html": [
       "<div>\n",
       "<style scoped>\n",
       "    .dataframe tbody tr th:only-of-type {\n",
       "        vertical-align: middle;\n",
       "    }\n",
       "\n",
       "    .dataframe tbody tr th {\n",
       "        vertical-align: top;\n",
       "    }\n",
       "\n",
       "    .dataframe thead th {\n",
       "        text-align: right;\n",
       "    }\n",
       "</style>\n",
       "<table border=\"1\" class=\"dataframe\">\n",
       "  <thead>\n",
       "    <tr style=\"text-align: right;\">\n",
       "      <th></th>\n",
       "      <th>Cliente</th>\n",
       "      <th>Dirección</th>\n",
       "    </tr>\n",
       "  </thead>\n",
       "  <tbody>\n",
       "    <tr>\n",
       "      <th>0</th>\n",
       "      <td>Juan Pérez</td>\n",
       "      <td>calle falsa 123</td>\n",
       "    </tr>\n",
       "    <tr>\n",
       "      <th>1</th>\n",
       "      <td>Ana Ruiz</td>\n",
       "      <td>Calle PRINCIPAL 45</td>\n",
       "    </tr>\n",
       "    <tr>\n",
       "      <th>2</th>\n",
       "      <td>Pedro López</td>\n",
       "      <td>AV. LOS robles 34</td>\n",
       "    </tr>\n",
       "  </tbody>\n",
       "</table>\n",
       "</div>"
      ],
      "text/plain": [
       "       Cliente           Dirección\n",
       "0   Juan Pérez     calle falsa 123\n",
       "1     Ana Ruiz  Calle PRINCIPAL 45\n",
       "2  Pedro López   AV. LOS robles 34"
      ]
     },
     "execution_count": 101,
     "metadata": {},
     "output_type": "execute_result"
    }
   ],
   "source": [
    "data_clientes = {\n",
    "    'Cliente': ['Juan Pérez', 'Ana Ruiz', 'Pedro López'],\n",
    "    'Dirección': ['calle falsa 123', 'Calle PRINCIPAL 45', 'AV. LOS robles 34']\n",
    "}\n",
    "\n",
    "df_clientes = pd.DataFrame(data_clientes)\n",
    "df_clientes"
   ]
  },
  {
   "cell_type": "markdown",
   "metadata": {},
   "source": [
    "1. Convierte todos los valores de la columna **Dirección** a minúsculas.\n",
    "2. Reemplaza las abreviaturas \"calle\", \"av.\" por \"calle\" y \"avenida\" respectivamente.\n",
    "3. Extrae el número de la dirección y guárdalo en una nueva columna llamada **Número**."
   ]
  },
  {
   "cell_type": "code",
   "execution_count": 102,
   "metadata": {},
   "outputs": [
    {
     "name": "stdout",
     "output_type": "stream",
     "text": [
      "       Cliente           Dirección\n",
      "0   Juan Pérez     calle falsa 123\n",
      "1     Ana Ruiz  calle principal 45\n",
      "2  Pedro López   av. los robles 34\n"
     ]
    }
   ],
   "source": [
    "df_clientes['Dirección']= df_clientes['Dirección'].str.lower()\n",
    "\n",
    "print(df_clientes)"
   ]
  },
  {
   "cell_type": "code",
   "execution_count": 103,
   "metadata": {},
   "outputs": [
    {
     "name": "stdout",
     "output_type": "stream",
     "text": [
      "       Cliente              Dirección\n",
      "0   Juan Pérez        Calle falsa 123\n",
      "1     Ana Ruiz     Calle principal 45\n",
      "2  Pedro López  Avenida los robles 34\n"
     ]
    }
   ],
   "source": [
    "df_clientes['Dirección'] = df_clientes['Dirección'].str.replace('calle', 'Calle', regex=True)\n",
    "df_clientes['Dirección'] = df_clientes['Dirección'].str.replace('av.', 'Avenida', regex=True)\n",
    "\n",
    "print(df_clientes)"
   ]
  },
  {
   "cell_type": "code",
   "execution_count": 107,
   "metadata": {},
   "outputs": [
    {
     "name": "stdout",
     "output_type": "stream",
     "text": [
      "       Cliente              Dirección Número\n",
      "0   Juan Pérez        Calle falsa 123    123\n",
      "1     Ana Ruiz     Calle principal 45     45\n",
      "2  Pedro López  Avenida los robles 34     34\n"
     ]
    }
   ],
   "source": [
    "df_clientes['Número'] = df_clientes['Dirección'].str.extract(r'(\\d+)')\n",
    "\n",
    "# Mostrar el DataFrame actualizado\n",
    "print(df_clientes)"
   ]
  }
 ],
 "metadata": {
  "kernelspec": {
   "display_name": "curso-ine",
   "language": "python",
   "name": "python3"
  },
  "language_info": {
   "codemirror_mode": {
    "name": "ipython",
    "version": 3
   },
   "file_extension": ".py",
   "mimetype": "text/x-python",
   "name": "python",
   "nbconvert_exporter": "python",
   "pygments_lexer": "ipython3",
   "version": "3.12.6"
  }
 },
 "nbformat": 4,
 "nbformat_minor": 2
}
