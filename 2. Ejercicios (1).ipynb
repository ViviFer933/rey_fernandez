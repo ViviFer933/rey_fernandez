{
 "cells": [
  {
   "cell_type": "markdown",
   "metadata": {},
   "source": [
    "#### **Ejercicio 1: Creación y manipulación de Series**\n",
    "1. Crea una Serie que contenga las ventas de una tienda de lunes a viernes. Utiliza las siguientes cantidades:\n",
    "   - Lunes: 100\n",
    "   - Martes: 150\n",
    "   - Miércoles: 200\n",
    "   - Jueves: 50\n",
    "   - Viernes: 300\n",
    "   \n",
    "2. Realiza las siguientes operaciones sobre la Serie:\n",
    "   - Accede al valor de las ventas del miércoles.\n",
    "   - Calcula el total de ventas de la semana.\n",
    "   - Filtra los días donde las ventas fueron mayores a 100."
   ]
  },
  {
   "cell_type": "code",
   "execution_count": 51,
   "metadata": {},
   "outputs": [
    {
     "name": "stdout",
     "output_type": "stream",
     "text": [
      "Lunes        100\n",
      "Martes       150\n",
      "Miercoles    200\n",
      "Jueves        50\n",
      "Viernes      300\n",
      "dtype: int64\n"
     ]
    }
   ],
   "source": [
    "import pandas as pd\n",
    "\n",
    "mi_serie=pd.Series({'Lunes': 100,'Martes': 150,'Miercoles':200,'Jueves':50,'Viernes':300})\n",
    "print(mi_serie)\n"
   ]
  },
  {
   "cell_type": "code",
   "execution_count": 52,
   "metadata": {},
   "outputs": [
    {
     "name": "stdout",
     "output_type": "stream",
     "text": [
      "200\n"
     ]
    }
   ],
   "source": [
    "print(mi_serie['Miercoles'])"
   ]
  },
  {
   "cell_type": "code",
   "execution_count": 53,
   "metadata": {},
   "outputs": [
    {
     "name": "stdout",
     "output_type": "stream",
     "text": [
      "800\n"
     ]
    }
   ],
   "source": [
    "print(mi_serie.sum())"
   ]
  },
  {
   "cell_type": "code",
   "execution_count": 54,
   "metadata": {},
   "outputs": [
    {
     "name": "stdout",
     "output_type": "stream",
     "text": [
      "Martes       150\n",
      "Miercoles    200\n",
      "Viernes      300\n",
      "dtype: int64\n"
     ]
    }
   ],
   "source": [
    "print(mi_serie[mi_serie>100])"
   ]
  },
  {
   "cell_type": "markdown",
   "metadata": {},
   "source": [
    "#### **Ejercicio 2: Creación y análisis de un DataFrame**\n",
    "1. Crea un DataFrame que contenga los nombres y edades de las siguientes personas:\n",
    "   - Ana, 23 años\n",
    "   - Luis, 35 años\n",
    "   - María, 29 años\n",
    "   \n",
    "2. Realiza las siguientes operaciones sobre el DataFrame:\n",
    "   - Accede a la columna de los nombres.\n",
    "   - Filtra las filas donde la edad sea mayor a 25.\n",
    "   - Agrega una nueva columna con los salarios de las personas (Ana: 30000, Luis: 45000, María: 35000)."
   ]
  },
  {
   "cell_type": "code",
   "execution_count": 55,
   "metadata": {},
   "outputs": [],
   "source": [
    "data = {'Nombre':['Ana','Luis','Maria'],'Edad':[23,35,29]}"
   ]
  },
  {
   "cell_type": "code",
   "execution_count": 56,
   "metadata": {},
   "outputs": [
    {
     "name": "stdout",
     "output_type": "stream",
     "text": [
      "  Nombre  Edad\n",
      "0    Ana    23\n",
      "1   Luis    35\n",
      "2  Maria    29\n"
     ]
    }
   ],
   "source": [
    "al = pd.DataFrame(data)\n",
    "print(al)"
   ]
  },
  {
   "cell_type": "code",
   "execution_count": 57,
   "metadata": {},
   "outputs": [
    {
     "name": "stdout",
     "output_type": "stream",
     "text": [
      "0      Ana\n",
      "1     Luis\n",
      "2    Maria\n",
      "Name: Nombre, dtype: object\n"
     ]
    }
   ],
   "source": [
    "print(al['Nombre'])"
   ]
  },
  {
   "cell_type": "code",
   "execution_count": 58,
   "metadata": {},
   "outputs": [
    {
     "name": "stdout",
     "output_type": "stream",
     "text": [
      "  Nombre  Edad\n",
      "1   Luis    35\n",
      "2  Maria    29\n"
     ]
    }
   ],
   "source": [
    "print(al[al['Edad']>25])"
   ]
  },
  {
   "cell_type": "code",
   "execution_count": 59,
   "metadata": {},
   "outputs": [
    {
     "name": "stdout",
     "output_type": "stream",
     "text": [
      "  Nombre  Edad  Salario\n",
      "0    Ana    23    30000\n",
      "1   Luis    35    45000\n",
      "2  Maria    29    35000\n"
     ]
    }
   ],
   "source": [
    "al['Salario']=[30000,45000,35000]\n",
    "print(al)"
   ]
  },
  {
   "cell_type": "markdown",
   "metadata": {},
   "source": [
    "#### **Ejercicio 3: Cálculos con DataFrames**\n",
    "1. Crea un DataFrame con información de ventas de productos en una tienda:\n",
    "   - Productos: \"Laptop\", \"Mouse\", \"Teclado\"\n",
    "   - Ventas: 30, 120, 75\n",
    "   - Precio por unidad: 1000, 50, 80\n",
    "\n",
    "2. Calcula:\n",
    "   - La venta total para cada producto (multiplicando el precio por unidad por las ventas).\n",
    "   - El total de ingresos para todos los productos."
   ]
  },
  {
   "cell_type": "code",
   "execution_count": 60,
   "metadata": {},
   "outputs": [
    {
     "name": "stdout",
     "output_type": "stream",
     "text": [
      "  Productos  Ventas  Precio por unidad\n",
      "0    Laptop      30               1000\n",
      "1     Mouse     120                 50\n",
      "2   Teclado      75                 80\n"
     ]
    }
   ],
   "source": [
    "data = {'Productos':['Laptop','Mouse','Teclado'],'Ventas':[30,120,75],'Precio por unidad':[1000,50,80]}\n",
    "al = pd.DataFrame(data)\n",
    "print(al)"
   ]
  },
  {
   "cell_type": "code",
   "execution_count": 61,
   "metadata": {},
   "outputs": [
    {
     "name": "stdout",
     "output_type": "stream",
     "text": [
      "  Productos  Ventas  Precio por unidad  Venta total\n",
      "0    Laptop      30               1000        30000\n",
      "1     Mouse     120                 50         6000\n",
      "2   Teclado      75                 80         6000\n"
     ]
    }
   ],
   "source": [
    "al['Venta total'] = al['Ventas'] * al['Precio por unidad']\n",
    "print(al)"
   ]
  },
  {
   "cell_type": "code",
   "execution_count": 62,
   "metadata": {},
   "outputs": [
    {
     "name": "stdout",
     "output_type": "stream",
     "text": [
      "  Productos  Ventas  Precio por unidad  Venta total  total_ventas_general\n",
      "0    Laptop      30               1000        30000                 42000\n",
      "1     Mouse     120                 50         6000                 42000\n",
      "2   Teclado      75                 80         6000                 42000\n"
     ]
    }
   ],
   "source": [
    "al['total_ventas_general'] = al['Venta total'].sum()\n",
    "\n",
    "print(al)"
   ]
  },
  {
   "cell_type": "markdown",
   "metadata": {},
   "source": [
    "#### **Ejercicio 4: Transformación y limpieza de datos en DataFrames**\n",
    "1. Crea un DataFrame con información de estudiantes y sus calificaciones en tres materias:\n",
    "   - Estudiantes: \"Ana\", \"Luis\", \"María\", \"Carlos\"\n",
    "   - Matemáticas: 90, 85, None, 78\n",
    "   - Ciencia: 88, 92, 85, None\n",
    "   - Historia: 75, None, 80, 90\n",
    "\n",
    "2. Realiza las siguientes operaciones:\n",
    "   - Rellena los valores faltantes con la media de cada columna.\n",
    "   - Renombra las columnas de las materias en inglés (Math, Science, History).\n",
    "   - Calcula la calificación promedio de cada estudiante."
   ]
  },
  {
   "cell_type": "code",
   "execution_count": null,
   "metadata": {},
   "outputs": [],
   "source": []
  },
  {
   "cell_type": "code",
   "execution_count": 63,
   "metadata": {},
   "outputs": [
    {
     "name": "stdout",
     "output_type": "stream",
     "text": [
      "  Estudiantes  Matematicas  Ciencia  Historia\n",
      "0         Ana         90.0     88.0      75.0\n",
      "1        Luis         85.0     92.0       NaN\n",
      "2       Maria          NaN     85.0      80.0\n",
      "3      Carlos         78.0      NaN      90.0\n"
     ]
    }
   ],
   "source": [
    "import pandas as pd\n",
    "import numpy as np\n",
    "\n",
    "calificaciones = {'Estudiantes':['Ana','Luis','Maria','Carlos'],\n",
    "                  'Matematicas':[90,85,None,78],\n",
    "                  'Ciencia':[88,92,85,None],\n",
    "                'Historia':[75,None,80,90]}\n",
    "cal = pd.DataFrame(calificaciones)\n",
    "print(cal)\n",
    "\n",
    "\n"
   ]
  },
  {
   "cell_type": "code",
   "execution_count": 67,
   "metadata": {},
   "outputs": [
    {
     "name": "stdout",
     "output_type": "stream",
     "text": [
      "  Estudiantes  Matematicas    Ciencia   Historia   Promedio\n",
      "0         Ana    90.000000  88.000000  75.000000  84.333333\n",
      "1        Luis    85.000000  92.000000  81.666667  86.222222\n",
      "2       Maria    84.333333  85.000000  80.000000  83.111111\n",
      "3      Carlos    78.000000  88.333333  90.000000  85.444444\n"
     ]
    },
    {
     "data": {
      "text/html": [
       "<div>\n",
       "<style scoped>\n",
       "    .dataframe tbody tr th:only-of-type {\n",
       "        vertical-align: middle;\n",
       "    }\n",
       "\n",
       "    .dataframe tbody tr th {\n",
       "        vertical-align: top;\n",
       "    }\n",
       "\n",
       "    .dataframe thead th {\n",
       "        text-align: right;\n",
       "    }\n",
       "</style>\n",
       "<table border=\"1\" class=\"dataframe\">\n",
       "  <thead>\n",
       "    <tr style=\"text-align: right;\">\n",
       "      <th></th>\n",
       "      <th>Estudiantes</th>\n",
       "      <th>Matematicas</th>\n",
       "      <th>Ciencia</th>\n",
       "      <th>Historia</th>\n",
       "      <th>Promedio</th>\n",
       "    </tr>\n",
       "  </thead>\n",
       "  <tbody>\n",
       "    <tr>\n",
       "      <th>0</th>\n",
       "      <td>Ana</td>\n",
       "      <td>90.000000</td>\n",
       "      <td>88.000000</td>\n",
       "      <td>75.000000</td>\n",
       "      <td>84.333333</td>\n",
       "    </tr>\n",
       "    <tr>\n",
       "      <th>1</th>\n",
       "      <td>Luis</td>\n",
       "      <td>85.000000</td>\n",
       "      <td>92.000000</td>\n",
       "      <td>81.666667</td>\n",
       "      <td>86.222222</td>\n",
       "    </tr>\n",
       "    <tr>\n",
       "      <th>2</th>\n",
       "      <td>Maria</td>\n",
       "      <td>84.333333</td>\n",
       "      <td>85.000000</td>\n",
       "      <td>80.000000</td>\n",
       "      <td>83.111111</td>\n",
       "    </tr>\n",
       "    <tr>\n",
       "      <th>3</th>\n",
       "      <td>Carlos</td>\n",
       "      <td>78.000000</td>\n",
       "      <td>88.333333</td>\n",
       "      <td>90.000000</td>\n",
       "      <td>85.444444</td>\n",
       "    </tr>\n",
       "  </tbody>\n",
       "</table>\n",
       "</div>"
      ],
      "text/plain": [
       "  Estudiantes  Matematicas    Ciencia   Historia   Promedio\n",
       "0         Ana    90.000000  88.000000  75.000000  84.333333\n",
       "1        Luis    85.000000  92.000000  81.666667  86.222222\n",
       "2       Maria    84.333333  85.000000  80.000000  83.111111\n",
       "3      Carlos    78.000000  88.333333  90.000000  85.444444"
      ]
     },
     "execution_count": 67,
     "metadata": {},
     "output_type": "execute_result"
    }
   ],
   "source": [
    "cal['Matematicas'] = cal['Matematicas'].fillna(cal['Matematicas'].mean())\n",
    "cal['Ciencia'] = cal['Ciencia'].fillna(cal['Ciencia'].mean())\n",
    "cal['Historia'] = cal['Historia'].fillna(cal['Historia'].mean())\n",
    "\n",
    "print(cal)\n",
    "\n",
    "cal['Promedio'] = cal[['Matematicas', 'Ciencia', 'Historia']].mean(axis=1)\n",
    "\n",
    "cal"
   ]
  }
 ],
 "metadata": {
  "kernelspec": {
   "display_name": "Python 3",
   "language": "python",
   "name": "python3"
  },
  "language_info": {
   "codemirror_mode": {
    "name": "ipython",
    "version": 3
   },
   "file_extension": ".py",
   "mimetype": "text/x-python",
   "name": "python",
   "nbconvert_exporter": "python",
   "pygments_lexer": "ipython3",
   "version": "3.12.6"
  }
 },
 "nbformat": 4,
 "nbformat_minor": 2
}
