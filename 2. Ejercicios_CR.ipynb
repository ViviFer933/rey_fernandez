{
 "cells": [
  {
   "cell_type": "markdown",
   "metadata": {},
   "source": [
    "#### **Ejercicio 1: Creación y manipulación de Series**\n",
    "1. Crea una Serie que contenga las ventas de una tienda de lunes a viernes. Utiliza las siguientes cantidades:\n",
    "   - Lunes: 100\n",
    "   - Martes: 150\n",
    "   - Miércoles: 200\n",
    "   - Jueves: 50\n",
    "   - Viernes: 300\n",
    "   \n",
    "2. Realiza las siguientes operaciones sobre la Serie:\n",
    "   - Accede al valor de las ventas del miércoles.\n",
    "   - Calcula el total de ventas de la semana.\n",
    "   - Filtra los días donde las ventas fueron mayores a 100."
   ]
  },
  {
   "cell_type": "code",
   "execution_count": 9,
   "metadata": {},
   "outputs": [],
   "source": [
    "import pandas as pd"
   ]
  },
  {
   "cell_type": "code",
   "execution_count": 23,
   "metadata": {},
   "outputs": [
    {
     "name": "stdout",
     "output_type": "stream",
     "text": [
      "Lunes        100\n",
      "Martes       150\n",
      "Miercoles    200\n",
      "Jueves        50\n",
      "Viernes      300\n",
      "dtype: int64\n"
     ]
    }
   ],
   "source": [
    "ventas_diarias = pd.Series ({\"Lunes\": 100, \"Martes\": 150,  \"Miercoles\": 200, \"Jueves\": 50, \"Viernes\": 300})\n",
    "print(ventas_diarias)"
   ]
  },
  {
   "cell_type": "code",
   "execution_count": 25,
   "metadata": {},
   "outputs": [
    {
     "name": "stdout",
     "output_type": "stream",
     "text": [
      "200\n"
     ]
    }
   ],
   "source": [
    "print(ventas_diarias[\"Miercoles\"])\n"
   ]
  },
  {
   "cell_type": "code",
   "execution_count": 33,
   "metadata": {},
   "outputs": [
    {
     "name": "stdout",
     "output_type": "stream",
     "text": [
      "800\n"
     ]
    }
   ],
   "source": [
    "Ventas_totales = ventas_diarias.sum()\n",
    "print(Ventas_totales)"
   ]
  },
  {
   "cell_type": "code",
   "execution_count": 35,
   "metadata": {},
   "outputs": [
    {
     "name": "stdout",
     "output_type": "stream",
     "text": [
      "Martes       150\n",
      "Miercoles    200\n",
      "Viernes      300\n",
      "dtype: int64\n"
     ]
    }
   ],
   "source": [
    "condicion = (ventas_diarias[ventas_diarias> 100])\n",
    "print(condicion)"
   ]
  },
  {
   "cell_type": "markdown",
   "metadata": {},
   "source": [
    "#### **Ejercicio 2: Creación y análisis de un DataFrame**\n",
    "1. Crea un DataFrame que contenga los nombres y edades de las siguientes personas:\n",
    "   - Ana, 23 años\n",
    "   - Luis, 35 años\n",
    "   - María, 29 años\n",
    "   \n",
    "2. Realiza las siguientes operaciones sobre el DataFrame:\n",
    "   - Accede a la columna de los nombres.\n",
    "   - Filtra las filas donde la edad sea mayor a 25.\n",
    "   - Agrega una nueva columna con los salarios de las personas (Ana: 30000, Luis: 45000, María: 35000)."
   ]
  },
  {
   "cell_type": "code",
   "execution_count": 27,
   "metadata": {},
   "outputs": [
    {
     "name": "stdout",
     "output_type": "stream",
     "text": [
      "  Nombre  Edad\n",
      "0    Ana    23\n",
      "1   Luis    35\n",
      "2  María    29\n"
     ]
    }
   ],
   "source": [
    "data = {'Nombre': ['Ana', 'Luis', 'María'], 'Edad': [23, 35, 29]}\n",
    "Personas = pd.DataFrame(data)\n",
    "print(Personas)"
   ]
  },
  {
   "cell_type": "code",
   "execution_count": 40,
   "metadata": {},
   "outputs": [
    {
     "name": "stdout",
     "output_type": "stream",
     "text": [
      "0      Ana\n",
      "1     Luis\n",
      "2    María\n",
      "Name: Nombre, dtype: object\n"
     ]
    }
   ],
   "source": [
    "print(Personas[\"Nombre\"])"
   ]
  },
  {
   "cell_type": "code",
   "execution_count": 41,
   "metadata": {},
   "outputs": [
    {
     "name": "stdout",
     "output_type": "stream",
     "text": [
      "  Nombre  Edad\n",
      "1   Luis    35\n",
      "2  María    29\n"
     ]
    }
   ],
   "source": [
    "condicion_2 = (Personas[Personas['Edad'] > 25])\n",
    "print(condicion_2)"
   ]
  },
  {
   "cell_type": "code",
   "execution_count": 43,
   "metadata": {},
   "outputs": [
    {
     "name": "stdout",
     "output_type": "stream",
     "text": [
      "  Nombre  Edad  Salario\n",
      "0    Ana    23    30000\n",
      "1   Luis    35    45000\n",
      "2  María    29    35000\n"
     ]
    }
   ],
   "source": [
    "Personas[\"Salario\"] = [30000, 45000, 35000]\n",
    "print(Personas)"
   ]
  },
  {
   "cell_type": "markdown",
   "metadata": {},
   "source": [
    "#### **Ejercicio 3: Cálculos con DataFrames**\n",
    "1. Crea un DataFrame con información de ventas de productos en una tienda:\n",
    "   - Productos: \"Laptop\", \"Mouse\", \"Teclado\"\n",
    "   - Ventas: 30, 120, 75\n",
    "   - Precio por unidad: 1000, 50, 80\n",
    "\n",
    "2. Calcula:\n",
    "   - La venta total para cada producto (multiplicando el precio por unidad por las ventas).\n",
    "   - El total de ingresos para todos los productos."
   ]
  },
  {
   "cell_type": "code",
   "execution_count": 54,
   "metadata": {},
   "outputs": [
    {
     "name": "stdout",
     "output_type": "stream",
     "text": [
      "  Productos  Ventas  Precio_unidad\n",
      "0    Laptop      30           1000\n",
      "1     Mouse     120             50\n",
      "2   Teclado      75             80\n"
     ]
    }
   ],
   "source": [
    "data_2 = {'Productos': ['Laptop', 'Mouse', 'Teclado'], 'Ventas': [30, 120, 75], \"Precio_unidad\": [1000, 50, 80]}\n",
    "Ventas_productos = pd.DataFrame(data_2)\n",
    "print(Ventas_productos)"
   ]
  },
  {
   "cell_type": "markdown",
   "metadata": {},
   "source": []
  },
  {
   "cell_type": "code",
   "execution_count": 60,
   "metadata": {},
   "outputs": [
    {
     "name": "stdout",
     "output_type": "stream",
     "text": [
      "0    30000\n",
      "1     6000\n",
      "2     6000\n",
      "dtype: int64\n"
     ]
    }
   ],
   "source": [
    "VentaXProd = print(Ventas_productos[\"Ventas\"] *Ventas_productos[\"Precio_unidad\"])"
   ]
  },
  {
   "cell_type": "code",
   "execution_count": 62,
   "metadata": {},
   "outputs": [
    {
     "name": "stdout",
     "output_type": "stream",
     "text": [
      "  Productos  Ventas  Precio_unidad  VentaXProd\n",
      "0    Laptop      30           1000       30000\n",
      "1     Mouse     120             50        6000\n",
      "2   Teclado      75             80        6000\n"
     ]
    }
   ],
   "source": [
    "Ventas_productos[\"VentaXProd\"] = [30000, 6000,6000]\n",
    "print(Ventas_productos)"
   ]
  },
  {
   "cell_type": "code",
   "execution_count": 77,
   "metadata": {},
   "outputs": [
    {
     "data": {
      "text/plain": [
       "np.int64(42000)"
      ]
     },
     "execution_count": 77,
     "metadata": {},
     "output_type": "execute_result"
    }
   ],
   "source": [
    "Venta_Total = Ventas_productos[\"VentaXProd\"].sum()\n",
    "Venta_Total"
   ]
  },
  {
   "cell_type": "markdown",
   "metadata": {},
   "source": [
    "#### **Ejercicio 4: Transformación y limpieza de datos en DataFrames**\n",
    "1. Crea un DataFrame con información de estudiantes y sus calificaciones en tres materias:\n",
    "   - Estudiantes: \"Ana\", \"Luis\", \"María\", \"Carlos\"\n",
    "   - Matemáticas: 90, 85, None, 78\n",
    "   - Ciencia: 88, 92, 85, None\n",
    "   - Historia: 75, None, 80, 90\n",
    "\n",
    "2. Realiza las siguientes operaciones:\n",
    "   - Rellena los valores faltantes con la media de cada columna.\n",
    "   - Renombra las columnas de las materias en inglés (Math, Science, History).\n",
    "   - Calcula la calificación promedio de cada estudiante."
   ]
  },
  {
   "cell_type": "code",
   "execution_count": null,
   "metadata": {},
   "outputs": [],
   "source": []
  }
 ],
 "metadata": {
  "kernelspec": {
   "display_name": "Python 3",
   "language": "python",
   "name": "python3"
  },
  "language_info": {
   "codemirror_mode": {
    "name": "ipython",
    "version": 3
   },
   "file_extension": ".py",
   "mimetype": "text/x-python",
   "name": "python",
   "nbconvert_exporter": "python",
   "pygments_lexer": "ipython3",
   "version": "3.12.6"
  }
 },
 "nbformat": 4,
 "nbformat_minor": 2
}
