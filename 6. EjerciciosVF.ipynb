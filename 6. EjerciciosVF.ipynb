{
 "cells": [
  {
   "cell_type": "markdown",
   "metadata": {},
   "source": [
    "### **Ejercicio 1: Análisis de Rentabilidad de Productos**\n",
    "Supongamos que eres analista de datos en una empresa de comercio electrónico. Tienes un DataFrame que lista varios productos, sus costos, precios de venta y unidades vendidas durante el último mes. Realiza un análisis para identificar qué productos son más rentables.\n",
    "\n",
    "- Calcula la ganancia por producto y agrega una columna de rentabilidad\n",
    "- Ordena los productos por rentabilidad"
   ]
  },
  {
   "cell_type": "code",
   "execution_count": 2,
   "metadata": {},
   "outputs": [
    {
     "name": "stdout",
     "output_type": "stream",
     "text": [
      "      Producto  Costo  Precio_venta  Unidades_vendidas\n",
      "0  Computadora    500          1000                 30\n",
      "1       Tablet    300           500                 50\n",
      "2   Smartphone    200           300                 70\n",
      "3  Auriculares     50           100                100\n",
      "4     Cargador     20            50                150\n"
     ]
    }
   ],
   "source": [
    "import pandas as pd\n",
    "\n",
    "data = {\n",
    "    'Producto': ['Computadora', 'Tablet', 'Smartphone', 'Auriculares', 'Cargador'],\n",
    "    'Costo': [500, 300, 200, 50, 20],\n",
    "    'Precio_venta': [1000, 500, 300, 100, 50],\n",
    "    'Unidades_vendidas': [30, 50, 70, 100, 150]\n",
    "}\n",
    "\n",
    "df_productos = pd.DataFrame(data)\n",
    "print(df_productos)"
   ]
  },
  {
   "cell_type": "code",
   "execution_count": 5,
   "metadata": {},
   "outputs": [
    {
     "data": {
      "text/html": [
       "<div>\n",
       "<style scoped>\n",
       "    .dataframe tbody tr th:only-of-type {\n",
       "        vertical-align: middle;\n",
       "    }\n",
       "\n",
       "    .dataframe tbody tr th {\n",
       "        vertical-align: top;\n",
       "    }\n",
       "\n",
       "    .dataframe thead th {\n",
       "        text-align: right;\n",
       "    }\n",
       "</style>\n",
       "<table border=\"1\" class=\"dataframe\">\n",
       "  <thead>\n",
       "    <tr style=\"text-align: right;\">\n",
       "      <th></th>\n",
       "      <th>Producto</th>\n",
       "      <th>Costo</th>\n",
       "      <th>Precio_venta</th>\n",
       "      <th>Unidades_vendidas</th>\n",
       "      <th>Ganancia</th>\n",
       "    </tr>\n",
       "  </thead>\n",
       "  <tbody>\n",
       "    <tr>\n",
       "      <th>0</th>\n",
       "      <td>Computadora</td>\n",
       "      <td>500</td>\n",
       "      <td>1000</td>\n",
       "      <td>30</td>\n",
       "      <td>500</td>\n",
       "    </tr>\n",
       "    <tr>\n",
       "      <th>1</th>\n",
       "      <td>Tablet</td>\n",
       "      <td>300</td>\n",
       "      <td>500</td>\n",
       "      <td>50</td>\n",
       "      <td>200</td>\n",
       "    </tr>\n",
       "    <tr>\n",
       "      <th>2</th>\n",
       "      <td>Smartphone</td>\n",
       "      <td>200</td>\n",
       "      <td>300</td>\n",
       "      <td>70</td>\n",
       "      <td>100</td>\n",
       "    </tr>\n",
       "    <tr>\n",
       "      <th>3</th>\n",
       "      <td>Auriculares</td>\n",
       "      <td>50</td>\n",
       "      <td>100</td>\n",
       "      <td>100</td>\n",
       "      <td>50</td>\n",
       "    </tr>\n",
       "    <tr>\n",
       "      <th>4</th>\n",
       "      <td>Cargador</td>\n",
       "      <td>20</td>\n",
       "      <td>50</td>\n",
       "      <td>150</td>\n",
       "      <td>30</td>\n",
       "    </tr>\n",
       "  </tbody>\n",
       "</table>\n",
       "</div>"
      ],
      "text/plain": [
       "      Producto  Costo  Precio_venta  Unidades_vendidas  Ganancia\n",
       "0  Computadora    500          1000                 30       500\n",
       "1       Tablet    300           500                 50       200\n",
       "2   Smartphone    200           300                 70       100\n",
       "3  Auriculares     50           100                100        50\n",
       "4     Cargador     20            50                150        30"
      ]
     },
     "execution_count": 5,
     "metadata": {},
     "output_type": "execute_result"
    }
   ],
   "source": [
    "df_productos['Ganancia'] = df_productos['Precio_venta'] - df_productos['Costo']\n",
    "df_productos"
   ]
  },
  {
   "cell_type": "code",
   "execution_count": 6,
   "metadata": {},
   "outputs": [
    {
     "data": {
      "text/html": [
       "<div>\n",
       "<style scoped>\n",
       "    .dataframe tbody tr th:only-of-type {\n",
       "        vertical-align: middle;\n",
       "    }\n",
       "\n",
       "    .dataframe tbody tr th {\n",
       "        vertical-align: top;\n",
       "    }\n",
       "\n",
       "    .dataframe thead th {\n",
       "        text-align: right;\n",
       "    }\n",
       "</style>\n",
       "<table border=\"1\" class=\"dataframe\">\n",
       "  <thead>\n",
       "    <tr style=\"text-align: right;\">\n",
       "      <th></th>\n",
       "      <th>Producto</th>\n",
       "      <th>Costo</th>\n",
       "      <th>Precio_venta</th>\n",
       "      <th>Unidades_vendidas</th>\n",
       "      <th>Ganancia</th>\n",
       "      <th>Rentabilidad</th>\n",
       "    </tr>\n",
       "  </thead>\n",
       "  <tbody>\n",
       "    <tr>\n",
       "      <th>0</th>\n",
       "      <td>Computadora</td>\n",
       "      <td>500</td>\n",
       "      <td>1000</td>\n",
       "      <td>30</td>\n",
       "      <td>500</td>\n",
       "      <td>1.000000</td>\n",
       "    </tr>\n",
       "    <tr>\n",
       "      <th>1</th>\n",
       "      <td>Tablet</td>\n",
       "      <td>300</td>\n",
       "      <td>500</td>\n",
       "      <td>50</td>\n",
       "      <td>200</td>\n",
       "      <td>0.666667</td>\n",
       "    </tr>\n",
       "    <tr>\n",
       "      <th>2</th>\n",
       "      <td>Smartphone</td>\n",
       "      <td>200</td>\n",
       "      <td>300</td>\n",
       "      <td>70</td>\n",
       "      <td>100</td>\n",
       "      <td>0.500000</td>\n",
       "    </tr>\n",
       "    <tr>\n",
       "      <th>3</th>\n",
       "      <td>Auriculares</td>\n",
       "      <td>50</td>\n",
       "      <td>100</td>\n",
       "      <td>100</td>\n",
       "      <td>50</td>\n",
       "      <td>1.000000</td>\n",
       "    </tr>\n",
       "    <tr>\n",
       "      <th>4</th>\n",
       "      <td>Cargador</td>\n",
       "      <td>20</td>\n",
       "      <td>50</td>\n",
       "      <td>150</td>\n",
       "      <td>30</td>\n",
       "      <td>1.500000</td>\n",
       "    </tr>\n",
       "  </tbody>\n",
       "</table>\n",
       "</div>"
      ],
      "text/plain": [
       "      Producto  Costo  Precio_venta  Unidades_vendidas  Ganancia  Rentabilidad\n",
       "0  Computadora    500          1000                 30       500      1.000000\n",
       "1       Tablet    300           500                 50       200      0.666667\n",
       "2   Smartphone    200           300                 70       100      0.500000\n",
       "3  Auriculares     50           100                100        50      1.000000\n",
       "4     Cargador     20            50                150        30      1.500000"
      ]
     },
     "execution_count": 6,
     "metadata": {},
     "output_type": "execute_result"
    }
   ],
   "source": [
    "df_productos['Rentabilidad'] = df_productos['Ganancia'] / df_productos['Costo']\n",
    "df_productos"
   ]
  },
  {
   "cell_type": "code",
   "execution_count": 7,
   "metadata": {},
   "outputs": [
    {
     "name": "stdout",
     "output_type": "stream",
     "text": [
      "      Producto  Costo  Precio_venta  Unidades_vendidas  Ganancia  Rentabilidad\n",
      "4     Cargador     20            50                150        30      1.500000\n",
      "0  Computadora    500          1000                 30       500      1.000000\n",
      "3  Auriculares     50           100                100        50      1.000000\n",
      "1       Tablet    300           500                 50       200      0.666667\n",
      "2   Smartphone    200           300                 70       100      0.500000\n"
     ]
    }
   ],
   "source": [
    "df_productos=df_productos.sort_values(by=['Rentabilidad'],ascending=False)\n",
    "print(df_productos)"
   ]
  },
  {
   "cell_type": "markdown",
   "metadata": {},
   "source": [
    "### **Ejercicio 2: Segmentación de Clientes por Edad y Consumo**\n",
    "Como analista de marketing en una cadena de tiendas, debes segmentar a los clientes en grupos de edad y analizar sus patrones de gasto para optimizar las campañas de marketing.\n",
    "\n",
    "- Agrupa los clientes por rangos de edad y calcula el gasto promedio (investiga el método `cut`)"
   ]
  },
  {
   "cell_type": "code",
   "execution_count": 8,
   "metadata": {},
   "outputs": [
    {
     "data": {
      "text/html": [
       "<div>\n",
       "<style scoped>\n",
       "    .dataframe tbody tr th:only-of-type {\n",
       "        vertical-align: middle;\n",
       "    }\n",
       "\n",
       "    .dataframe tbody tr th {\n",
       "        vertical-align: top;\n",
       "    }\n",
       "\n",
       "    .dataframe thead th {\n",
       "        text-align: right;\n",
       "    }\n",
       "</style>\n",
       "<table border=\"1\" class=\"dataframe\">\n",
       "  <thead>\n",
       "    <tr style=\"text-align: right;\">\n",
       "      <th></th>\n",
       "      <th>Cliente</th>\n",
       "      <th>Edad</th>\n",
       "      <th>Gasto_mensual</th>\n",
       "    </tr>\n",
       "  </thead>\n",
       "  <tbody>\n",
       "    <tr>\n",
       "      <th>0</th>\n",
       "      <td>Ana</td>\n",
       "      <td>25</td>\n",
       "      <td>200</td>\n",
       "    </tr>\n",
       "    <tr>\n",
       "      <th>1</th>\n",
       "      <td>Luis</td>\n",
       "      <td>35</td>\n",
       "      <td>400</td>\n",
       "    </tr>\n",
       "    <tr>\n",
       "      <th>2</th>\n",
       "      <td>María</td>\n",
       "      <td>45</td>\n",
       "      <td>600</td>\n",
       "    </tr>\n",
       "    <tr>\n",
       "      <th>3</th>\n",
       "      <td>Carlos</td>\n",
       "      <td>55</td>\n",
       "      <td>800</td>\n",
       "    </tr>\n",
       "    <tr>\n",
       "      <th>4</th>\n",
       "      <td>Josefina</td>\n",
       "      <td>65</td>\n",
       "      <td>1000</td>\n",
       "    </tr>\n",
       "  </tbody>\n",
       "</table>\n",
       "</div>"
      ],
      "text/plain": [
       "    Cliente  Edad  Gasto_mensual\n",
       "0       Ana    25            200\n",
       "1      Luis    35            400\n",
       "2     María    45            600\n",
       "3    Carlos    55            800\n",
       "4  Josefina    65           1000"
      ]
     },
     "execution_count": 8,
     "metadata": {},
     "output_type": "execute_result"
    }
   ],
   "source": [
    "data_clientes = {\n",
    "    'Cliente': ['Ana', 'Luis', 'María', 'Carlos', 'Josefina'],\n",
    "    'Edad': [25, 35, 45, 55, 65],\n",
    "    'Gasto_mensual': [200, 400, 600, 800, 1000]\n",
    "}\n",
    "\n",
    "df_clientes = pd.DataFrame(data_clientes)\n",
    "df_clientes"
   ]
  },
  {
   "cell_type": "code",
   "execution_count": 13,
   "metadata": {},
   "outputs": [
    {
     "name": "stderr",
     "output_type": "stream",
     "text": [
      "/var/folders/wc/t36cttgx18d9v12fs7c9bgm80000gn/T/ipykernel_21435/346519099.py:8: FutureWarning: The default of observed=False is deprecated and will be changed to True in a future version of pandas. Pass observed=False to retain current behavior or observed=True to adopt the future default and silence this warning.\n",
      "  gasto_promedio = df_clientes.groupby('Rango_Edad')['Gasto_mensual'].mean().reset_index()\n"
     ]
    },
    {
     "data": {
      "text/html": [
       "<div>\n",
       "<style scoped>\n",
       "    .dataframe tbody tr th:only-of-type {\n",
       "        vertical-align: middle;\n",
       "    }\n",
       "\n",
       "    .dataframe tbody tr th {\n",
       "        vertical-align: top;\n",
       "    }\n",
       "\n",
       "    .dataframe thead th {\n",
       "        text-align: right;\n",
       "    }\n",
       "</style>\n",
       "<table border=\"1\" class=\"dataframe\">\n",
       "  <thead>\n",
       "    <tr style=\"text-align: right;\">\n",
       "      <th></th>\n",
       "      <th>Rango_Edad</th>\n",
       "      <th>Gasto_mensual</th>\n",
       "    </tr>\n",
       "  </thead>\n",
       "  <tbody>\n",
       "    <tr>\n",
       "      <th>0</th>\n",
       "      <td>0-30</td>\n",
       "      <td>200.0</td>\n",
       "    </tr>\n",
       "    <tr>\n",
       "      <th>1</th>\n",
       "      <td>31-40</td>\n",
       "      <td>400.0</td>\n",
       "    </tr>\n",
       "    <tr>\n",
       "      <th>2</th>\n",
       "      <td>41-50</td>\n",
       "      <td>600.0</td>\n",
       "    </tr>\n",
       "    <tr>\n",
       "      <th>3</th>\n",
       "      <td>51-60</td>\n",
       "      <td>800.0</td>\n",
       "    </tr>\n",
       "    <tr>\n",
       "      <th>4</th>\n",
       "      <td>61-70</td>\n",
       "      <td>1000.0</td>\n",
       "    </tr>\n",
       "  </tbody>\n",
       "</table>\n",
       "</div>"
      ],
      "text/plain": [
       "  Rango_Edad  Gasto_mensual\n",
       "0       0-30          200.0\n",
       "1      31-40          400.0\n",
       "2      41-50          600.0\n",
       "3      51-60          800.0\n",
       "4      61-70         1000.0"
      ]
     },
     "execution_count": 13,
     "metadata": {},
     "output_type": "execute_result"
    }
   ],
   "source": [
    "\n",
    "bins = [0, 30, 40, 50, 60, 70]  # Definir los límites de los rangos\n",
    "labels = ['0-30', '31-40', '41-50', '51-60', '61-70']  # Etiquetas para los rangos\n",
    "\n",
    "# Crear una nueva columna 'Rango_Edad' usando pd.cut()\n",
    "df_clientes['Rango_Edad'] = pd.cut(df_clientes['Edad'], bins=bins, labels=labels)\n",
    "\n",
    "# Agrupar por 'Rango_Edad' y calcular el gasto promedio\n",
    "gasto_promedio = df_clientes.groupby('Rango_Edad')['Gasto_mensual'].mean().reset_index()\n",
    "\n",
    "gasto_promedio"
   ]
  },
  {
   "cell_type": "markdown",
   "metadata": {},
   "source": [
    "### **Ejercicio 3: Optimización de Inventarios**\n",
    "El departamento de operaciones necesita tu ayuda para ajustar los niveles de inventario basados en las ventas anuales y la rotación de productos.\n",
    "\n",
    "- Calcula la tasa de rotación de inventario"
   ]
  },
  {
   "cell_type": "code",
   "execution_count": 12,
   "metadata": {},
   "outputs": [
    {
     "data": {
      "text/html": [
       "<div>\n",
       "<style scoped>\n",
       "    .dataframe tbody tr th:only-of-type {\n",
       "        vertical-align: middle;\n",
       "    }\n",
       "\n",
       "    .dataframe tbody tr th {\n",
       "        vertical-align: top;\n",
       "    }\n",
       "\n",
       "    .dataframe thead th {\n",
       "        text-align: right;\n",
       "    }\n",
       "</style>\n",
       "<table border=\"1\" class=\"dataframe\">\n",
       "  <thead>\n",
       "    <tr style=\"text-align: right;\">\n",
       "      <th></th>\n",
       "      <th>Producto</th>\n",
       "      <th>Inventario_actual</th>\n",
       "      <th>Ventas_anuales</th>\n",
       "    </tr>\n",
       "  </thead>\n",
       "  <tbody>\n",
       "    <tr>\n",
       "      <th>0</th>\n",
       "      <td>Laptop</td>\n",
       "      <td>200</td>\n",
       "      <td>600</td>\n",
       "    </tr>\n",
       "    <tr>\n",
       "      <th>1</th>\n",
       "      <td>Mouse</td>\n",
       "      <td>1500</td>\n",
       "      <td>1800</td>\n",
       "    </tr>\n",
       "    <tr>\n",
       "      <th>2</th>\n",
       "      <td>Teclado</td>\n",
       "      <td>800</td>\n",
       "      <td>900</td>\n",
       "    </tr>\n",
       "    <tr>\n",
       "      <th>3</th>\n",
       "      <td>Monitor</td>\n",
       "      <td>150</td>\n",
       "      <td>300</td>\n",
       "    </tr>\n",
       "  </tbody>\n",
       "</table>\n",
       "</div>"
      ],
      "text/plain": [
       "  Producto  Inventario_actual  Ventas_anuales\n",
       "0   Laptop                200             600\n",
       "1    Mouse               1500            1800\n",
       "2  Teclado                800             900\n",
       "3  Monitor                150             300"
      ]
     },
     "execution_count": 12,
     "metadata": {},
     "output_type": "execute_result"
    }
   ],
   "source": [
    "data_inventario = {\n",
    "    'Producto': ['Laptop', 'Mouse', 'Teclado', 'Monitor'],\n",
    "    'Inventario_actual': [200, 1500, 800, 150],\n",
    "    'Ventas_anuales': [600, 1800, 900, 300]\n",
    "}\n",
    "\n",
    "df_inventario = pd.DataFrame(data_inventario)\n",
    "\n",
    "df_inventario"
   ]
  },
  {
   "cell_type": "code",
   "execution_count": 14,
   "metadata": {},
   "outputs": [
    {
     "data": {
      "text/html": [
       "<div>\n",
       "<style scoped>\n",
       "    .dataframe tbody tr th:only-of-type {\n",
       "        vertical-align: middle;\n",
       "    }\n",
       "\n",
       "    .dataframe tbody tr th {\n",
       "        vertical-align: top;\n",
       "    }\n",
       "\n",
       "    .dataframe thead th {\n",
       "        text-align: right;\n",
       "    }\n",
       "</style>\n",
       "<table border=\"1\" class=\"dataframe\">\n",
       "  <thead>\n",
       "    <tr style=\"text-align: right;\">\n",
       "      <th></th>\n",
       "      <th>Producto</th>\n",
       "      <th>Inventario_actual</th>\n",
       "      <th>Ventas_anuales</th>\n",
       "      <th>Tasa_rotacion</th>\n",
       "    </tr>\n",
       "  </thead>\n",
       "  <tbody>\n",
       "    <tr>\n",
       "      <th>0</th>\n",
       "      <td>Laptop</td>\n",
       "      <td>200</td>\n",
       "      <td>600</td>\n",
       "      <td>3.000</td>\n",
       "    </tr>\n",
       "    <tr>\n",
       "      <th>1</th>\n",
       "      <td>Mouse</td>\n",
       "      <td>1500</td>\n",
       "      <td>1800</td>\n",
       "      <td>1.200</td>\n",
       "    </tr>\n",
       "    <tr>\n",
       "      <th>2</th>\n",
       "      <td>Teclado</td>\n",
       "      <td>800</td>\n",
       "      <td>900</td>\n",
       "      <td>1.125</td>\n",
       "    </tr>\n",
       "    <tr>\n",
       "      <th>3</th>\n",
       "      <td>Monitor</td>\n",
       "      <td>150</td>\n",
       "      <td>300</td>\n",
       "      <td>2.000</td>\n",
       "    </tr>\n",
       "  </tbody>\n",
       "</table>\n",
       "</div>"
      ],
      "text/plain": [
       "  Producto  Inventario_actual  Ventas_anuales  Tasa_rotacion\n",
       "0   Laptop                200             600          3.000\n",
       "1    Mouse               1500            1800          1.200\n",
       "2  Teclado                800             900          1.125\n",
       "3  Monitor                150             300          2.000"
      ]
     },
     "execution_count": 14,
     "metadata": {},
     "output_type": "execute_result"
    }
   ],
   "source": [
    "df_inventario['Tasa_rotacion'] = df_inventario['Ventas_anuales'] / df_inventario['Inventario_actual']\n",
    "df_inventario"
   ]
  },
  {
   "cell_type": "markdown",
   "metadata": {},
   "source": [
    "### **Ejercicio 4: Evaluación de Campañas de Marketing**\n",
    "Se te ha proporcionado un DataFrame con los resultados de diferentes campañas de marketing en términos de alcance y conversiones. Analiza la eficacia de cada campaña para determinar cuál ha tenido el mejor rendimiento en términos de ROI (retorno de inversión)."
   ]
  },
  {
   "cell_type": "code",
   "execution_count": null,
   "metadata": {},
   "outputs": [],
   "source": [
    "data_campañas = {\n",
    "    'Campaña': ['A', 'B', 'C', 'D'],\n",
    "    'Alcance': [1000, 3000, 2000, 5000],\n",
    "    'Conversiones': [50, 150, 100, 200],\n",
    "    'Costo': [500, 1500, 1000, 2500]\n",
    "}\n",
    "\n",
    "df_campañas = pd.DataFrame(data_campañas)\n",
    "df_campañas"
   ]
  },
  {
   "cell_type": "code",
   "execution_count": null,
   "metadata": {},
   "outputs": [],
   "source": []
  },
  {
   "cell_type": "markdown",
   "metadata": {},
   "source": [
    "### **Ejercicio 6 (Investigación): Uso del método `melt` en Pandas**\n",
    "\n",
    "**Investiga cómo se utiliza el método `melt` de pandas para transformar DataFrames de un formato ancho a uno largo.** Crea un DataFrame que represente ventas de varios productos en diferentes meses, utiliza `melt` para cambiar su estructura y analiza cómo podría ser útil este formato para comparaciones o visualizaciones posteriores."
   ]
  },
  {
   "cell_type": "code",
   "execution_count": 4,
   "metadata": {},
   "outputs": [],
   "source": [
    "data_ventas = {\n",
    "    'Producto': ['Laptop', 'Smartphone', 'Tablet'],\n",
    "    'Enero': [100, 150, 200],\n",
    "    'Febrero': [110, 120, 180]\n",
    "}\n",
    "\n",
    "df_ventas = pd.DataFrame(data_ventas)"
   ]
  },
  {
   "cell_type": "code",
   "execution_count": null,
   "metadata": {},
   "outputs": [],
   "source": []
  }
 ],
 "metadata": {
  "kernelspec": {
   "display_name": "curso-ine",
   "language": "python",
   "name": "python3"
  },
  "language_info": {
   "codemirror_mode": {
    "name": "ipython",
    "version": 3
   },
   "file_extension": ".py",
   "mimetype": "text/x-python",
   "name": "python",
   "nbconvert_exporter": "python",
   "pygments_lexer": "ipython3",
   "version": "3.12.6"
  }
 },
 "nbformat": 4,
 "nbformat_minor": 2
}
